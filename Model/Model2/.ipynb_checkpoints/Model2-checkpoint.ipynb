{
 "cells": [
  {
   "cell_type": "code",
   "execution_count": 1,
   "metadata": {},
   "outputs": [],
   "source": [
    "from keras.models import load_model,Sequential\n",
    "from keras.layers import Input, Dense, LSTM,Dropout\n",
    "from keras.utils import to_categorical\n",
    "from keras.callbacks import Callback, ModelCheckpoint\n",
    "\n",
    "\n",
    "import glob\n",
    "import pandas as pd\n",
    "import numpy as np\n",
    "import matplotlib.pyplot as plt\n",
    "import random\n",
    "\n",
    "from sklearn.metrics import confusion_matrix , accuracy_score\n",
    "\n",
    "def signal_to_catagorical(data):\n",
    "  data.loc[data['Signal'] == 'wait ot hold', 'Signal'] = 'wait or hold'\n",
    "  data.loc[data['Signal'] == 'buy', 'Signal'] = 0\n",
    "  data.loc[data['Signal'] == 'sell', 'Signal'] = 1 \n",
    "  data.loc[data['Signal'] == 'wait or hold', 'Signal'] = 2 \n",
    "  return data\n",
    "\n",
    "def add_shift_day(data,day):\n",
    "  r_list = []\n",
    "  for i in range(day,len(data)):#Number mean day to shift\n",
    "    r_list.append(data[i-day : i])\n",
    "  return np.array(r_list)\n",
    "\n"
   ]
  },
  {
   "cell_type": "code",
   "execution_count": 2,
   "metadata": {},
   "outputs": [
    {
     "name": "stdout",
     "output_type": "stream",
     "text": [
      "have stock =  75\n"
     ]
    }
   ],
   "source": [
    "datalist = [f for f in glob.glob(\"../../Dataset/*.csv\")]\n",
    "print('have stock = ',len(datalist))"
   ]
  },
  {
   "cell_type": "code",
   "execution_count": 4,
   "metadata": {},
   "outputs": [],
   "source": [
    "#validation \n",
    "val_list = []\n",
    "for val_name in range(71,72):\n",
    "    df = pd.read_csv(datalist[val_name])\n",
    "    val_x = df\n",
    "    # val_x = add_shift_day(val_x,30)\n",
    "    val_list.append(val_x)\n",
    "\n",
    "#test\n",
    "test_list = []\n",
    "for test_name in range(72,75):\n",
    "    df = pd.read_csv(datalist[test_name])\n",
    "    test = df\n",
    "    # test = add_shift_day(test,30)\n",
    "    test_list.append(test)"
   ]
  },
  {
   "cell_type": "code",
   "execution_count": 5,
   "metadata": {},
   "outputs": [],
   "source": [
    "model = Sequential()\n",
    "model.add(LSTM(100, input_shape=((7,6)),return_sequences=True))\n",
    "model.add(Dropout(0.2))\n",
    "model.add(LSTM(50,return_sequences=True))\n",
    "model.add(Dropout(0.2))\n",
    "model.add(LSTM(50))\n",
    "model.add(Dense(3,activation='softmax'))\n",
    "\n",
    "model.compile(optimizer='adam',\n",
    "              loss='categorical_crossentropy',\n",
    "              metrics=['acc'])\n",
    "\n",
    "checkpoint = ModelCheckpoint('Model2_checkpoint.h5',\n",
    "                               verbose=1,\n",
    "                               monitor='val_acc',\n",
    "                               mode='max',\n",
    "                               save_best_only = True)\n",
    "\n"
   ]
  },
  {
   "cell_type": "code",
   "execution_count": null,
   "metadata": {},
   "outputs": [
    {
     "name": "stdout",
     "output_type": "stream",
     "text": [
      "Epoch 1/100\n",
      "91/95 [===========================>..] - ETA: 0s - loss: 0.7921 - acc: 0.7157\n",
      "Epoch 00001: val_acc improved from -inf to 0.61416, saving model to Model2_checkpoint.h5\n",
      "95/95 [==============================] - 2s 26ms/step - loss: 0.7973 - acc: 0.7076 - val_loss: 0.8828 - val_acc: 0.6142\n",
      "Epoch 2/100\n",
      "93/95 [============================>.] - ETA: 0s - loss: 0.6788 - acc: 0.7157\n",
      "Epoch 00002: val_acc did not improve from 0.61416\n",
      "95/95 [==============================] - 2s 16ms/step - loss: 0.6778 - acc: 0.7162 - val_loss: 0.8540 - val_acc: 0.6133\n",
      "Epoch 3/100\n",
      "91/95 [===========================>..] - ETA: 0s - loss: 0.6520 - acc: 0.7332\n",
      "Epoch 00003: val_acc did not improve from 0.61416\n",
      "95/95 [==============================] - 1s 15ms/step - loss: 0.6631 - acc: 0.7245 - val_loss: 0.8372 - val_acc: 0.6133\n",
      "Epoch 4/100\n",
      "91/95 [===========================>..] - ETA: 0s - loss: 0.6423 - acc: 0.7318\n",
      "Epoch 00004: val_acc improved from 0.61416 to 0.61498, saving model to Model2_checkpoint.h5\n",
      "95/95 [==============================] - 1s 15ms/step - loss: 0.6543 - acc: 0.7231 - val_loss: 0.8301 - val_acc: 0.6150\n",
      "Epoch 5/100\n",
      "95/95 [==============================] - ETA: 0s - loss: 0.6497 - acc: 0.7251\n",
      "Epoch 00005: val_acc did not improve from 0.61498\n",
      "95/95 [==============================] - 1s 15ms/step - loss: 0.6497 - acc: 0.7251 - val_loss: 0.8288 - val_acc: 0.6138\n",
      "Epoch 6/100\n",
      "91/95 [===========================>..] - ETA: 0s - loss: 0.6313 - acc: 0.7335\n",
      "Epoch 00006: val_acc did not improve from 0.61498\n",
      "95/95 [==============================] - 1s 14ms/step - loss: 0.6438 - acc: 0.7248 - val_loss: 0.8303 - val_acc: 0.6129\n",
      "Epoch 7/100\n",
      "91/95 [===========================>..] - ETA: 0s - loss: 0.6243 - acc: 0.7352"
     ]
    }
   ],
   "source": [
    "er = []\n",
    "for train_name in range(0,70):\n",
    "    try:\n",
    "        df = pd.read_csv(datalist[train_name])\n",
    "        df = signal_to_catagorical(df)\n",
    "#         df = df[30:]\n",
    "        x_train = df[['MACD-SL-1_n','DMI_n','MACD-SL-2_n','AO_n','RSI_n','MA-trend']].values\n",
    "        x_train = add_shift_day(x_train,7)\n",
    "        y_train = df['Signal'] \n",
    "        y_train = to_categorical(y_train)\n",
    "        y_train = y_train.tolist()\n",
    "        del y_train[0:7]\n",
    "        y_train = np.array(y_train)\n",
    "\n",
    "        r = random.randint(0,2)\n",
    "        val = val_list[0]\n",
    "        val = signal_to_catagorical(val)\n",
    "        x_val = val[['MACD-SL-1_n','DMI_n','MACD-SL-2_n','AO_n','RSI_n','MA-trend']].values\n",
    "        x_val = add_shift_day(x_val,7)\n",
    "        y_val = val['Signal']\n",
    "        y_val = to_categorical(y_val)\n",
    "        y_val = y_val.tolist()\n",
    "        del y_val[0:7]\n",
    "        y_val = np.array(y_val)\n",
    "\n",
    "        h = model.fit(x_train, y_train, epochs=100,validation_data=(x_val,y_val),callbacks=[checkpoint],shuffle=False)\n",
    "        model.save('Model2_'+str(train_name)+'.h5')\n",
    "        plt.plot(h.history['acc'])\n",
    "        plt.plot(h.history['val_acc'])\n",
    "        plt.legend(['train', 'val'])\n",
    "        plt.show()\n",
    "    except:\n",
    "            er.append(datalist[train_name])\n",
    "    print(er)\n"
   ]
  },
  {
   "cell_type": "code",
   "execution_count": 37,
   "metadata": {},
   "outputs": [],
   "source": [
    "model = load_model('Model2_38.h5')"
   ]
  },
  {
   "cell_type": "code",
   "execution_count": 38,
   "metadata": {},
   "outputs": [
    {
     "name": "stdout",
     "output_type": "stream",
     "text": [
      "Confusion Matrix\n",
      "[[ 380    0    0]\n",
      " [ 551    0    0]\n",
      " [1526    0    0]]\n",
      "Accuracy\n",
      "0.15466015466015465\n",
      "Confusion Matrix\n",
      "[[ 352    0    0]\n",
      " [ 236    0    0]\n",
      " [1885    0    0]]\n",
      "Accuracy\n",
      "0.14233724221593205\n",
      "Confusion Matrix\n",
      "[[ 526    0    0]\n",
      " [ 310    0    0]\n",
      " [1794    0    0]]\n",
      "Accuracy\n",
      "0.2\n",
      "Confusion Matrix\n",
      "[[ 481    0    0]\n",
      " [ 415    0    0]\n",
      " [1779    0    0]]\n",
      "Accuracy\n",
      "0.17981308411214952\n"
     ]
    }
   ],
   "source": [
    "for test in test_list:\n",
    "    # print(test)\n",
    "    test = signal_to_catagorical(test)\n",
    "    #   print(test)\n",
    "    x_test = test[['MACD-SL-1_n','DMI_n','MACD-SL-2_n','AO_n','RSI_n','MA-trend']].values\n",
    "    x_test = add_shift_day(x_test,7)\n",
    "    y_test = test['Signal'].values\n",
    "    y_test = y_test.tolist()\n",
    "    del y_test[0:7]\n",
    "    y_test = np.array(y_test)\n",
    "\n",
    "    y_pred = model.predict(x_test)\n",
    "    y_pred = np.argmax(y_pred,axis = -1)\n",
    "    y_test = y_test.astype('int64')\n",
    "    cm = confusion_matrix(y_test, y_pred)\n",
    "    ac = accuracy_score(y_test,y_pred)\n",
    "    print(\"Confusion Matrix\")\n",
    "    print(cm)\n",
    "    print(\"Accuracy\")\n",
    "    print(ac)"
   ]
  },
  {
   "cell_type": "code",
   "execution_count": 39,
   "metadata": {},
   "outputs": [
    {
     "name": "stderr",
     "output_type": "stream",
     "text": [
      "C:\\Users\\jame_\\anaconda3\\lib\\site-packages\\ipykernel_launcher.py:13: SettingWithCopyWarning: \n",
      "A value is trying to be set on a copy of a slice from a DataFrame.\n",
      "Try using .loc[row_indexer,col_indexer] = value instead\n",
      "\n",
      "See the caveats in the documentation: https://pandas.pydata.org/pandas-docs/stable/user_guide/indexing.html#returning-a-view-versus-a-copy\n",
      "  del sys.path[0]\n",
      "C:\\Users\\jame_\\anaconda3\\lib\\site-packages\\ipykernel_launcher.py:14: SettingWithCopyWarning: \n",
      "A value is trying to be set on a copy of a slice from a DataFrame.\n",
      "Try using .loc[row_indexer,col_indexer] = value instead\n",
      "\n",
      "See the caveats in the documentation: https://pandas.pydata.org/pandas-docs/stable/user_guide/indexing.html#returning-a-view-versus-a-copy\n",
      "  \n",
      "C:\\Users\\jame_\\anaconda3\\lib\\site-packages\\ipykernel_launcher.py:15: SettingWithCopyWarning: \n",
      "A value is trying to be set on a copy of a slice from a DataFrame.\n",
      "Try using .loc[row_indexer,col_indexer] = value instead\n",
      "\n",
      "See the caveats in the documentation: https://pandas.pydata.org/pandas-docs/stable/user_guide/indexing.html#returning-a-view-versus-a-copy\n",
      "  from ipykernel import kernelapp as app\n"
     ]
    },
    {
     "data": {
      "text/plain": [
       "Text(0.5, 0, 'Date')"
      ]
     },
     "execution_count": 39,
     "metadata": {},
     "output_type": "execute_result"
    },
    {
     "data": {
      "image/png": "[encoded data removed]",
      "text/plain": [
       "<Figure size 1008x576 with 1 Axes>"
      ]
     },
     "metadata": {
      "needs_background": "light"
     },
     "output_type": "display_data"
    }
   ],
   "source": [
    "p_test = test_list[2]\n",
    "p_test = signal_to_catagorical(p_test)\n",
    "x_test = p_test[['MACD-SL-1_n','DMI_n','MACD-SL-2_n','AO_n','RSI_n','MA-trend']].values\n",
    "x_test = add_shift_day(x_test,7)\n",
    "y_test = p_test['Signal'].values\n",
    "y_test = y_test.tolist()\n",
    "del y_test[0:7]\n",
    "y_test = np.array(y_test)\n",
    "y_pred = model.predict(x_test)\n",
    "y_pred = np.argmax(y_pred,axis = -1)\n",
    "p_test = p_test.iloc[7:]\n",
    "\n",
    "p_test['pred'] = y_pred\n",
    "p_test['pred_b'] = np.where(p_test['pred'] == 0,p_test['Close'],np.nan)\n",
    "p_test['pred_s'] = np.where(p_test['pred'] == 1,p_test['Close'],np.nan)\n",
    "\n",
    "plt.figure(figsize=(14,8))\n",
    "# plt.grid()\n",
    "plt.title('Predict Buy and Sold Signal')\n",
    "plt.plot(p_test['Close'])\n",
    "plt.plot(p_test['pred_b'],color='yellow')\n",
    "plt.plot(p_test['pred_s'],color='red')\n",
    "plt.ylabel('Price')\n",
    "plt.xlabel('Date')"
   ]
  },
  {
   "cell_type": "code",
   "execution_count": null,
   "metadata": {},
   "outputs": [],
   "source": []
  },
  {
   "cell_type": "code",
   "execution_count": null,
   "metadata": {},
   "outputs": [],
   "source": []
  }
 ],
 "metadata": {
  "kernelspec": {
   "display_name": "Python 3",
   "language": "python",
   "name": "python3"
  },
  "language_info": {
   "codemirror_mode": {
    "name": "ipython",
    "version": 3
   },
   "file_extension": ".py",
   "mimetype": "text/x-python",
   "name": "python",
   "nbconvert_exporter": "python",
   "pygments_lexer": "ipython3",
   "version": "3.7.6"
  }
 },
 "nbformat": 4,
 "nbformat_minor": 4
}
