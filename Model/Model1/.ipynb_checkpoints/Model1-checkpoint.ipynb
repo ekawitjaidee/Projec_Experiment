{
 "cells": [
  {
   "cell_type": "code",
   "execution_count": 1,
   "metadata": {},
   "outputs": [],
   "source": [
    "from keras.models import load_model,Sequential\n",
    "from keras.layers import Input, Dense, LSTM,Dropout\n",
    "from keras.utils import to_categorical\n",
    "from keras.callbacks import Callback, ModelCheckpoint\n",
    "\n",
    "\n",
    "import glob\n",
    "import pandas as pd\n",
    "import numpy as np\n",
    "import matplotlib.pyplot as plt\n",
    "import random\n",
    "\n",
    "from sklearn.metrics import confusion_matrix\n",
    "\n",
    "def signal_to_catagorical(data):\n",
    "  data.loc[data['Signal'] == 'wait ot hold', 'Signal'] = 'wait or hold'\n",
    "  data.loc[data['Signal'] == 'buy', 'Signal'] = 0\n",
    "  data.loc[data['Signal'] == 'sell', 'Signal'] = 1 \n",
    "  data.loc[data['Signal'] == 'wait or hold', 'Signal'] = 2 \n",
    "  return data\n",
    "\n",
    "def add_shift_day(data,day):\n",
    "  r_list = []\n",
    "  for i in range(day,len(data)):#Number mean day to shift\n",
    "    r_list.append(data[i-day : i])\n",
    "  return np.array(r_list)\n",
    "\n"
   ]
  },
  {
   "cell_type": "code",
   "execution_count": 3,
   "metadata": {},
   "outputs": [
    {
     "name": "stdout",
     "output_type": "stream",
     "text": [
      "have stock =  76\n"
     ]
    }
   ],
   "source": [
    "datalist = [f for f in glob.glob(\"../../Dataset/*.csv\")]\n",
    "print('have stock = ',len(datalist))"
   ]
  },
  {
   "cell_type": "code",
   "execution_count": 4,
   "metadata": {},
   "outputs": [],
   "source": [
    "#validation \n",
    "val_list = []\n",
    "for val_name in range(71,74):\n",
    "    df = pd.read_csv(datalist[val_name])\n",
    "    val_x = df\n",
    "    # val_x = add_shift_day(val_x,30)\n",
    "    val_list.append(val_x)\n",
    "\n",
    "#test\n",
    "test_list = []\n",
    "for test_name in range(74,76):\n",
    "    df = pd.read_csv(datalist[test_name])\n",
    "    test = df\n",
    "    # test = add_shift_day(test,30)\n",
    "    test_list.append(test)"
   ]
  },
  {
   "cell_type": "code",
   "execution_count": 5,
   "metadata": {},
   "outputs": [],
   "source": [
    "model = Sequential()\n",
    "model.add(LSTM(100, input_shape=((30,7)),return_sequences=True))\n",
    "model.add(Dropout(0.2))\n",
    "model.add(LSTM(50,return_sequences=True))\n",
    "model.add(Dropout(0.2))\n",
    "model.add(LSTM(50))\n",
    "model.add(Dense(3,activation='softmax'))\n",
    "\n",
    "model.compile(optimizer='adam',\n",
    "              loss='categorical_crossentropy',\n",
    "              metrics=['acc'])\n",
    "\n",
    "checkpoint = ModelCheckpoint('lstm_model_trend5.h5',\n",
    "                               verbose=1,\n",
    "                               monitor='val_acc',\n",
    "                               mode='max',\n",
    "                               save_best_only = True)\n",
    "\n"
   ]
  },
  {
   "cell_type": "code",
   "execution_count": null,
   "metadata": {},
   "outputs": [],
   "source": [
    "er = []\n",
    "for train_name in range(0,70):\n",
    "    try:\n",
    "        df = pd.read_csv(datalist[train_name])\n",
    "        df = signal_to_catagorical(df)\n",
    "#         df = df[30:]\n",
    "        x_train = df[['MACD-SL-1_n','DMI_n','MACD-SL-2_n','Close_n','AO_n','RSI_n','MA-trend']].values\n",
    "        x_train = add_shift_day(x_train,30)\n",
    "        y_train = df['Signal'] \n",
    "        y_train = to_categorical(y_train)\n",
    "        y_train = y_train.tolist()\n",
    "        del y_train[0:30]\n",
    "        y_train = np.array(y_train)\n",
    "\n",
    "        r = random.randint(0,2)\n",
    "        val = val_list[1]\n",
    "        val = signal_to_catagorical(val)\n",
    "        x_val = val[['MACD-SL-1_n','DMI_n','MACD-SL-2_n','Close_n','AO_n','RSI_n','MA-trend']].values\n",
    "        x_val = add_shift_day(x_val,30)\n",
    "        y_val = val['Signal']\n",
    "        y_val = to_categorical(y_val)\n",
    "        y_val = y_val.tolist()\n",
    "        del y_val[0:30]\n",
    "        y_val = np.array(y_val)\n",
    "\n",
    "        h = model.fit(x_train, y_train, epochs=60,validation_data=(x_val,y_val),callbacks=[checkpoint],shuffle=False)\n",
    "        model.save('Model1_'+str(train_name)+'.h5')\n",
    "        plt.plot(h.history['acc'])\n",
    "        plt.plot(h.history['val_acc'])\n",
    "        plt.legend(['train', 'val'])\n",
    "        plt.show()\n",
    "    except:\n",
    "            er.append(datalist[train_name])\n",
    "    print(er)\n"
   ]
  }
 ],
 "metadata": {
  "kernelspec": {
   "display_name": "Python 3",
   "language": "python",
   "name": "python3"
  },
  "language_info": {
   "codemirror_mode": {
    "name": "ipython",
    "version": 3
   },
   "file_extension": ".py",
   "mimetype": "text/x-python",
   "name": "python",
   "nbconvert_exporter": "python",
   "pygments_lexer": "ipython3",
   "version": "3.7.6"
  }
 },
 "nbformat": 4,
 "nbformat_minor": 4
}
