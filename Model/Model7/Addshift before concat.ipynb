{
 "cells": [
  {
   "cell_type": "code",
   "execution_count": 26,
   "metadata": {},
   "outputs": [],
   "source": [
    "import pandas as pd\n",
    "import glob\n",
    "import numpy as np\n",
    "import xarray as xr\n",
    "\n",
    "def add_shift_day(data,day):\n",
    "    r_list = []\n",
    "    for i in range(day,len(data)):#Number mean day to shift\n",
    "        r_list.append(data[i-day : i])\n",
    "    return np.array(r_list)\n"
   ]
  },
  {
   "cell_type": "code",
   "execution_count": 13,
   "metadata": {},
   "outputs": [
    {
     "data": {
      "text/plain": [
       "75"
      ]
     },
     "execution_count": 13,
     "metadata": {},
     "output_type": "execute_result"
    }
   ],
   "source": [
    "datalist =  [f for f in glob.glob('../../Dataset/*.csv')]\n",
    "len(datalist)"
   ]
  },
  {
   "cell_type": "code",
   "execution_count": 38,
   "metadata": {},
   "outputs": [
    {
     "name": "stdout",
     "output_type": "stream",
     "text": [
      "57\n",
      "(3023, 6)\n",
      "(2993, 30, 6)\n",
      "(2269, 6)\n",
      "(2239, 30, 6)\n",
      "(2519, 6)\n",
      "(2489, 30, 6)\n",
      "(2519, 6)\n",
      "(2489, 30, 6)\n",
      "(3062, 6)\n",
      "(3032, 30, 6)\n",
      "(2519, 6)\n",
      "(2489, 30, 6)\n",
      "(2519, 6)\n",
      "(2489, 30, 6)\n",
      "(2519, 6)\n",
      "(2489, 30, 6)\n",
      "(2519, 6)\n",
      "(2489, 30, 6)\n",
      "(2791, 6)\n",
      "(2761, 30, 6)\n",
      "(2466, 6)\n",
      "(2436, 30, 6)\n",
      "(2790, 6)\n",
      "(2760, 30, 6)\n",
      "(2519, 6)\n",
      "(2489, 30, 6)\n",
      "(2918, 6)\n",
      "(2888, 30, 6)\n",
      "(2622, 6)\n",
      "(2592, 30, 6)\n",
      "(3000, 6)\n",
      "(2970, 30, 6)\n",
      "(2519, 6)\n",
      "(2489, 30, 6)\n",
      "(2519, 6)\n",
      "(2489, 30, 6)\n",
      "(2834, 6)\n",
      "(2804, 30, 6)\n",
      "(2623, 6)\n",
      "(2593, 30, 6)\n",
      "(2519, 6)\n",
      "(2489, 30, 6)\n",
      "(2813, 6)\n",
      "(2783, 30, 6)\n",
      "(2852, 6)\n",
      "(2822, 30, 6)\n",
      "(2603, 6)\n",
      "(2573, 30, 6)\n",
      "(3274, 6)\n",
      "(3244, 30, 6)\n",
      "(2527, 6)\n",
      "(2497, 30, 6)\n",
      "(2581, 6)\n",
      "(2551, 30, 6)\n",
      "(2810, 6)\n",
      "(2780, 30, 6)\n",
      "(2790, 6)\n",
      "(2760, 30, 6)\n",
      "(2519, 6)\n",
      "(2489, 30, 6)\n",
      "(3210, 6)\n",
      "(3180, 30, 6)\n",
      "(2959, 6)\n",
      "(2929, 30, 6)\n",
      "(3416, 6)\n",
      "(3386, 30, 6)\n",
      "(2698, 6)\n",
      "(2668, 30, 6)\n",
      "(2687, 6)\n",
      "(2657, 30, 6)\n",
      "(2877, 6)\n",
      "(2847, 30, 6)\n",
      "(3062, 6)\n",
      "(3032, 30, 6)\n",
      "(2466, 6)\n",
      "(2436, 30, 6)\n",
      "(2466, 6)\n",
      "(2436, 30, 6)\n",
      "(2669, 6)\n",
      "(2639, 30, 6)\n",
      "(2519, 6)\n",
      "(2489, 30, 6)\n",
      "(2917, 6)\n",
      "(2887, 30, 6)\n",
      "(1811, 6)\n",
      "(1781, 30, 6)\n",
      "(3150, 6)\n",
      "(3120, 30, 6)\n",
      "(2519, 6)\n",
      "(2489, 30, 6)\n",
      "(2519, 6)\n",
      "(2489, 30, 6)\n",
      "(2519, 6)\n",
      "(2489, 30, 6)\n",
      "(3023, 6)\n",
      "(2993, 30, 6)\n",
      "(1897, 6)\n",
      "(1867, 30, 6)\n",
      "(2771, 6)\n",
      "(2741, 30, 6)\n",
      "(2519, 6)\n",
      "(2489, 30, 6)\n",
      "(2519, 6)\n",
      "(2489, 30, 6)\n",
      "(2519, 6)\n",
      "(2489, 30, 6)\n",
      "(2624, 6)\n",
      "(2594, 30, 6)\n",
      "(1832, 6)\n",
      "(1802, 30, 6)\n",
      "(2466, 6)\n",
      "(2436, 30, 6)\n",
      "(2619, 6)\n",
      "(2589, 30, 6)\n"
     ]
    },
    {
     "ename": "AttributeError",
     "evalue": "'numpy.ndarray' object has no attribute 'to_csv'",
     "output_type": "error",
     "traceback": [
      "\u001b[1;31m---------------------------------------------------------------------------\u001b[0m",
      "\u001b[1;31mAttributeError\u001b[0m                            Traceback (most recent call last)",
      "\u001b[1;32m<ipython-input-38-d307920b50dc>\u001b[0m in \u001b[0;36m<module>\u001b[1;34m\u001b[0m\n\u001b[0;32m     14\u001b[0m     \u001b[1;32melse\u001b[0m\u001b[1;33m:\u001b[0m\u001b[1;33m\u001b[0m\u001b[1;33m\u001b[0m\u001b[0m\n\u001b[0;32m     15\u001b[0m         \u001b[0mdata\u001b[0m \u001b[1;33m=\u001b[0m \u001b[0mnp\u001b[0m\u001b[1;33m.\u001b[0m\u001b[0mconcatenate\u001b[0m\u001b[1;33m(\u001b[0m\u001b[1;33m[\u001b[0m\u001b[0mdata\u001b[0m\u001b[1;33m,\u001b[0m\u001b[0mdf\u001b[0m\u001b[1;33m]\u001b[0m\u001b[1;33m)\u001b[0m\u001b[1;33m\u001b[0m\u001b[1;33m\u001b[0m\u001b[0m\n\u001b[1;32m---> 16\u001b[1;33m \u001b[0mdata\u001b[0m\u001b[1;33m.\u001b[0m\u001b[0mto_csv\u001b[0m\u001b[1;33m(\u001b[0m\u001b[0mtrain\u001b[0m\u001b[1;33m.\u001b[0m\u001b[0mcsv\u001b[0m\u001b[1;33m,\u001b[0m\u001b[0mindex_col\u001b[0m \u001b[1;33m=\u001b[0m \u001b[1;32mFalse\u001b[0m\u001b[1;33m)\u001b[0m\u001b[1;33m\u001b[0m\u001b[1;33m\u001b[0m\u001b[0m\n\u001b[0m",
      "\u001b[1;31mAttributeError\u001b[0m: 'numpy.ndarray' object has no attribute 'to_csv'"
     ]
    }
   ],
   "source": [
    "data = np.array([])\n",
    "datalist.pop()\n",
    "counter = False\n",
    "print(len(datalist))\n",
    "for stock in datalist:\n",
    "    df = pd.read_csv(stock)\n",
    "    df = df[['MACD-SL-1_n','DMI_n','MACD-SL-2_n','AO_n','RSI_n','MA-trend']].values\n",
    "    print(df.shape)\n",
    "    df = add_shift_day(df,30)\n",
    "    print(df.shape)\n",
    "    if counter == False:\n",
    "        data = df\n",
    "        counter = True\n",
    "    else:\n",
    "        data = np.concatenate([data,df])\n",
    "data.to_csv(train.csv,index_col = False)"
   ]
  },
  {
   "cell_type": "code",
   "execution_count": 37,
   "metadata": {},
   "outputs": [
    {
     "data": {
      "text/plain": [
       "(152999, 30, 6)"
      ]
     },
     "execution_count": 37,
     "metadata": {},
     "output_type": "execute_result"
    }
   ],
   "source": [
    "data.shape"
   ]
  },
  {
   "cell_type": "code",
   "execution_count": null,
   "metadata": {},
   "outputs": [],
   "source": []
  }
 ],
 "metadata": {
  "kernelspec": {
   "display_name": "Python 3",
   "language": "python",
   "name": "python3"
  },
  "language_info": {
   "codemirror_mode": {
    "name": "ipython",
    "version": 3
   },
   "file_extension": ".py",
   "mimetype": "text/x-python",
   "name": "python",
   "nbconvert_exporter": "python",
   "pygments_lexer": "ipython3",
   "version": "3.7.7"
  }
 },
 "nbformat": 4,
 "nbformat_minor": 4
}
